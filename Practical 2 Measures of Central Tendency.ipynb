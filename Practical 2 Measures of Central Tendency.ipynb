{
 "cells": [
  {
   "cell_type": "markdown",
   "id": "27eaafb6",
   "metadata": {},
   "source": [
    "## Social Media and Web Analytics\n",
    "### Practical 2\n",
    "##### Measures of Central Tendency"
   ]
  },
  {
   "cell_type": "code",
   "execution_count": 1,
   "id": "03c27694",
   "metadata": {},
   "outputs": [],
   "source": [
    "#Import Necessary Libraries\n",
    "import pandas as pd\n",
    "import numpy as np\n"
   ]
  },
  {
   "cell_type": "code",
   "execution_count": 15,
   "id": "592d91d3",
   "metadata": {},
   "outputs": [
    {
     "name": "stdout",
     "output_type": "stream",
     "text": [
      "    S.No.  MTE (25)  Mini Project (25)  Total (50)  ETE (50)  Total\n",
      "0     1.0      5.00               20.0       25.00      12.0  37.00\n",
      "1     2.0     11.05               20.0       31.05      26.0  57.05\n",
      "2     3.0      8.10               20.0       28.10      14.0  42.10\n",
      "3     4.0      6.00               10.0       16.00      13.0  29.00\n",
      "4     5.0     11.35               20.0       31.35      17.0  48.35\n",
      "..    ...       ...                ...         ...       ...    ...\n",
      "74   75.0     12.05               10.0       22.05      20.0  42.05\n",
      "75   76.0     12.25               10.0       22.25      28.0  50.25\n",
      "76   77.0      1.75               10.0       11.75       NaN   0.00\n",
      "77   78.0      3.00               10.0       13.00       NaN   0.00\n",
      "78   79.0      5.80               10.0       15.80      12.0  27.80\n",
      "\n",
      "[79 rows x 6 columns]\n"
     ]
    }
   ],
   "source": [
    "#Import dataset\n",
    "path= r\"C:\\Users\\Maneesh\\Downloads\\IBM-313 Marks.xlsx\"\n",
    "table = pd.read_excel(path)\n",
    "print(table)"
   ]
  },
  {
   "cell_type": "code",
   "execution_count": 16,
   "id": "bf3ca754",
   "metadata": {},
   "outputs": [
    {
     "data": {
      "text/plain": [
       "46.90632911392405"
      ]
     },
     "execution_count": 16,
     "metadata": {},
     "output_type": "execute_result"
    }
   ],
   "source": [
    "# Arithmatic mean\n",
    "x = table['Total']\n",
    "np.mean(x)"
   ]
  },
  {
   "cell_type": "code",
   "execution_count": 17,
   "id": "648e8914",
   "metadata": {},
   "outputs": [
    {
     "data": {
      "text/plain": [
       "45.0"
      ]
     },
     "execution_count": 17,
     "metadata": {},
     "output_type": "execute_result"
    }
   ],
   "source": [
    "# Median\n",
    "np.median(x)"
   ]
  },
  {
   "cell_type": "code",
   "execution_count": 18,
   "id": "dea95772",
   "metadata": {},
   "outputs": [
    {
     "data": {
      "text/plain": [
       "ModeResult(mode=array([0.]), count=array([2]))"
      ]
     },
     "execution_count": 18,
     "metadata": {},
     "output_type": "execute_result"
    }
   ],
   "source": [
    "# Mode np.mode(x) is not defined in python, for this import scipy for calculating mode\n",
    "import scipy\n",
    "from scipy import stats\n",
    "stats.mode(x)"
   ]
  },
  {
   "cell_type": "code",
   "execution_count": 19,
   "id": "fb509760",
   "metadata": {},
   "outputs": [
    {
     "name": "stdout",
     "output_type": "stream",
     "text": [
      "3.0\n"
     ]
    }
   ],
   "source": [
    "# percentile\n",
    "a= np.array([1,2,3,4,5])\n",
    "p = np.percentile(a,50)\n",
    "print(p)"
   ]
  },
  {
   "cell_type": "code",
   "execution_count": 20,
   "id": "68706291",
   "metadata": {},
   "outputs": [
    {
     "name": "stdout",
     "output_type": "stream",
     "text": [
      "['Ram', 65, 205]\n"
     ]
    }
   ],
   "source": [
    "# List\n",
    "k= ['Ram', 65, 205]\n",
    "print(k)"
   ]
  },
  {
   "cell_type": "code",
   "execution_count": 21,
   "id": "9126cbb6",
   "metadata": {},
   "outputs": [
    {
     "name": "stdout",
     "output_type": "stream",
     "text": [
      "Ram\n",
      "65\n",
      "205\n"
     ]
    }
   ],
   "source": [
    "for i in k:\n",
    "    print(i)"
   ]
  },
  {
   "cell_type": "code",
   "execution_count": 22,
   "id": "1d147fdf",
   "metadata": {},
   "outputs": [
    {
     "name": "stdout",
     "output_type": "stream",
     "text": [
      "10\n",
      "12\n",
      "14\n",
      "16\n",
      "18\n"
     ]
    }
   ],
   "source": [
    "#Print even numbers between 10 -20\n",
    "for i in range(10, 20, 2):\n",
    "    print(i)"
   ]
  },
  {
   "cell_type": "code",
   "execution_count": 23,
   "id": "a00bbdfe",
   "metadata": {},
   "outputs": [
    {
     "name": "stdout",
     "output_type": "stream",
     "text": [
      "10\n",
      "12\n",
      "14\n",
      "16\n",
      "18\n",
      "20\n",
      "22\n",
      "24\n",
      "26\n",
      "28\n",
      "30\n",
      "32\n",
      "34\n",
      "36\n",
      "38\n",
      "40\n",
      "42\n",
      "44\n",
      "46\n",
      "48\n"
     ]
    }
   ],
   "source": [
    "#Print even numbers between 10 -50\n",
    "for i in range (10,50,2):\n",
    "    print(i)"
   ]
  },
  {
   "cell_type": "code",
   "execution_count": 24,
   "id": "473fff64",
   "metadata": {},
   "outputs": [
    {
     "name": "stdout",
     "output_type": "stream",
     "text": [
      "10, 12, 14, 16, 18, "
     ]
    }
   ],
   "source": [
    "#For printing value in a row seperated by coma\n",
    "for i in range(10,20,2): print(i, end=', ')"
   ]
  },
  {
   "cell_type": "code",
   "execution_count": 25,
   "id": "3ec127ec",
   "metadata": {},
   "outputs": [],
   "source": [
    "# define a new function\n",
    "def greet():\n",
    "    print('Hi')\n",
    "    print('Good evening')"
   ]
  },
  {
   "cell_type": "code",
   "execution_count": 26,
   "id": "22bd4e2f",
   "metadata": {},
   "outputs": [
    {
     "name": "stdout",
     "output_type": "stream",
     "text": [
      "Hi\n",
      "Good evening\n"
     ]
    }
   ],
   "source": [
    "greet()"
   ]
  },
  {
   "cell_type": "code",
   "execution_count": 27,
   "id": "20bdb954",
   "metadata": {},
   "outputs": [],
   "source": [
    "# define function for addition\n",
    "def add(p,q):\n",
    "    c= p+q\n",
    "    print(c)"
   ]
  },
  {
   "cell_type": "code",
   "execution_count": 28,
   "id": "528ca0cc",
   "metadata": {},
   "outputs": [
    {
     "name": "stdout",
     "output_type": "stream",
     "text": [
      "6\n"
     ]
    }
   ],
   "source": [
    "# Addition of the numbers\n",
    "add(2,4)"
   ]
  },
  {
   "cell_type": "code",
   "execution_count": 29,
   "id": "b59bd60a",
   "metadata": {},
   "outputs": [
    {
     "data": {
      "text/plain": [
       "(1, 101)"
      ]
     },
     "execution_count": 29,
     "metadata": {},
     "output_type": "execute_result"
    }
   ],
   "source": [
    "#minimum and maximum value in a list\n",
    "data = [1 ,2, 5, 55, 6, 66, 58, 101, 4, 59, 53, 36]\n",
    "min(data), max(data)\n"
   ]
  },
  {
   "cell_type": "code",
   "execution_count": 30,
   "id": "e6e513a4",
   "metadata": {},
   "outputs": [
    {
     "data": {
      "text/plain": [
       "(1, 101)"
      ]
     },
     "execution_count": 30,
     "metadata": {},
     "output_type": "execute_result"
    }
   ],
   "source": [
    "#minimum and maximum value in a list\n",
    "data = [1 ,2, 5, 55, 6, 66, 58, 101, 4, 59, 53, 36]\n",
    "min(data), max(data)\n"
   ]
  },
  {
   "cell_type": "code",
   "execution_count": 31,
   "id": "49673724",
   "metadata": {},
   "outputs": [],
   "source": [
    "#defining a new function for minimum and maximum value of dataset \n",
    "data= [1, 2, 5, 55, 6, 66, 58, 101, 4, 59, 53, 36]\n",
    "def min_and_max(data):\n",
    "    min_val=min(data)\n",
    "    max_val= max(data)\n",
    "    \n",
    "    return(min_val, max_val)"
   ]
  },
  {
   "cell_type": "code",
   "execution_count": 32,
   "id": "41cebf42",
   "metadata": {},
   "outputs": [
    {
     "data": {
      "text/plain": [
       "(1, 101)"
      ]
     },
     "execution_count": 32,
     "metadata": {},
     "output_type": "execute_result"
    }
   ],
   "source": [
    "#Print minumumand maximum value of list\n",
    "min_and_max(data)"
   ]
  },
  {
   "cell_type": "code",
   "execution_count": null,
   "id": "e72030b5",
   "metadata": {},
   "outputs": [],
   "source": []
  }
 ],
 "metadata": {
  "kernelspec": {
   "display_name": "Python 3 (ipykernel)",
   "language": "python",
   "name": "python3"
  },
  "language_info": {
   "codemirror_mode": {
    "name": "ipython",
    "version": 3
   },
   "file_extension": ".py",
   "mimetype": "text/x-python",
   "name": "python",
   "nbconvert_exporter": "python",
   "pygments_lexer": "ipython3",
   "version": "3.9.7"
  }
 },
 "nbformat": 4,
 "nbformat_minor": 5
}
