{
 "cells": [
  {
   "cell_type": "markdown",
   "id": "5e970a01",
   "metadata": {},
   "source": [
    "## Social Media and Web Analytics\n",
    "### Python basics\n",
    "\n",
    "### Practical 1\n",
    "##### Exploratory Data Analysis of GDP per capita of various countries"
   ]
  },
  {
   "cell_type": "code",
   "execution_count": 1,
   "id": "106a821f",
   "metadata": {},
   "outputs": [],
   "source": [
    "#import necessary libraries\n",
    "import pandas as pd\n",
    "import numpy as np\n",
    "import matplotlib.pyplot as plt\n"
   ]
  },
  {
   "cell_type": "code",
   "execution_count": 2,
   "id": "1815e7f7",
   "metadata": {},
   "outputs": [],
   "source": [
    "#Import the dataset\n",
    "df= pd.read_csv(\"C:\\\\Users\\\\Maneesh\\\\Downloads\\\\GM-GDPpercapita.csv\")"
   ]
  },
  {
   "cell_type": "code",
   "execution_count": 3,
   "id": "a908623e",
   "metadata": {},
   "outputs": [
    {
     "name": "stdout",
     "output_type": "stream",
     "text": [
      "(204, 253)\n"
     ]
    }
   ],
   "source": [
    "#Shape of the dataset\n",
    "print(df.shape)"
   ]
  },
  {
   "cell_type": "code",
   "execution_count": 4,
   "id": "d50a487f",
   "metadata": {},
   "outputs": [
    {
     "name": "stdout",
     "output_type": "stream",
     "text": [
      "Index(['geo', 'Country Name', '1800', '1801', '1802', '1803', '1804', '1805',\n",
      "       '1806', '1807',\n",
      "       ...\n",
      "       '2041', '2042', '2043', '2044', '2045', '2046', '2047', '2048', '2049',\n",
      "       '2050'],\n",
      "      dtype='object', length=253)\n"
     ]
    }
   ],
   "source": [
    "#Print unique columns\n",
    "print(df.columns)"
   ]
  },
  {
   "cell_type": "code",
   "execution_count": 5,
   "id": "b40af439",
   "metadata": {},
   "outputs": [
    {
     "name": "stdout",
     "output_type": "stream",
     "text": [
      "<class 'pandas.core.frame.DataFrame'>\n",
      "RangeIndex: 204 entries, 0 to 203\n",
      "Columns: 253 entries, geo to 2050\n",
      "dtypes: float64(251), object(2)\n",
      "memory usage: 403.3+ KB\n",
      "None\n"
     ]
    }
   ],
   "source": [
    "#Information of data\n",
    "print(df.info())"
   ]
  },
  {
   "cell_type": "code",
   "execution_count": 6,
   "id": "9005f2ec",
   "metadata": {},
   "outputs": [
    {
     "name": "stdout",
     "output_type": "stream",
     "text": [
      "   geo Country Name    1800    1801    1802    1803    1804    1805    1806  \\\n",
      "0  afg  Afghanistan   674.0   674.0   674.0   674.0   674.0   674.0   674.0   \n",
      "1  alb      Albania   746.0   746.0   746.0   746.0   746.0   747.0   747.0   \n",
      "2  dza      Algeria   788.0   788.0   788.0   788.0   788.0   788.0   788.0   \n",
      "3  and      Andorra  1338.0  1341.0  1343.0  1346.0  1348.0  1351.0  1353.0   \n",
      "4  ago       Angola   691.0   693.0   697.0   700.0   702.0   705.0   709.0   \n",
      "\n",
      "     1807  ...      2041      2042      2043      2044      2045      2046  \\\n",
      "0   674.0  ...    2880.0    2942.0    3004.0    3068.0    3133.0    3200.0   \n",
      "1   747.0  ...   24470.0   24990.0   25520.0   26062.0   26615.0   27181.0   \n",
      "2   788.0  ...   13237.0   13518.0   13805.0   14098.0   14398.0   14703.0   \n",
      "3  1355.0  ...  108493.0  110796.0  113148.0  115551.0  118004.0  120509.0   \n",
      "4   712.0  ...    8044.0    8215.0    8389.0    8567.0    8749.0    8935.0   \n",
      "\n",
      "       2047      2048      2049      2050  \n",
      "0    3267.0    3337.0    3408.0    3480.0  \n",
      "1   27758.0   28347.0   28949.0   29563.0  \n",
      "2   15015.0   15334.0   15660.0   15992.0  \n",
      "3  123067.0  125680.0  128348.0  131073.0  \n",
      "4    9124.0    9318.0    9516.0    9718.0  \n",
      "\n",
      "[5 rows x 253 columns]\n"
     ]
    }
   ],
   "source": [
    "# Print first five rows\n",
    "print(df.head())"
   ]
  },
  {
   "cell_type": "code",
   "execution_count": 7,
   "id": "0df9be2d",
   "metadata": {},
   "outputs": [
    {
     "name": "stdout",
     "output_type": "stream",
     "text": [
      "          geo  Country Name    1800    1801    1802    1803    1804    1805  \\\n",
      "199    africa        Africa   721.0   722.0   722.0   723.0   723.0   723.0   \n",
      "200      asia          Asia  1103.0  1101.0  1098.0  1095.0  1092.0  1088.0   \n",
      "201    europe        Europe  1825.0  1821.0  1834.0  1834.0  1845.0  1843.0   \n",
      "202  americas  The Americas  1639.0  1650.0  1660.0  1646.0  1642.0  1658.0   \n",
      "203     world         World  1236.0  1235.0  1236.0  1234.0  1234.0  1232.0   \n",
      "\n",
      "       1806    1807  ...     2041     2042     2043     2044     2045  \\\n",
      "199   723.0   727.0  ...   6629.0   6751.0   6875.0   7001.0   7130.0   \n",
      "200  1085.0  1082.0  ...  23366.0  23812.0  24267.0  24731.0  25205.0   \n",
      "201  1847.0  1855.0  ...  55431.0  56632.0  57858.0  59110.0  60389.0   \n",
      "202  1672.0  1676.0  ...  44527.0  45475.0  46445.0  47437.0  48452.0   \n",
      "203  1232.0  1232.0  ...  25217.0  25642.0  26074.0  26514.0  26961.0   \n",
      "\n",
      "        2046     2047     2048     2049     2050  \n",
      "199   7262.0   7396.0   7533.0   7672.0   7815.0  \n",
      "200  25687.0  26180.0  26682.0  27195.0  27718.0  \n",
      "201  61695.0  63029.0  64392.0  65784.0  67207.0  \n",
      "202  49491.0  50555.0  51644.0  52759.0  53901.0  \n",
      "203  27416.0  27880.0  28352.0  28832.0  29321.0  \n",
      "\n",
      "[5 rows x 253 columns]\n"
     ]
    }
   ],
   "source": [
    "# Print first five rows\n",
    "print(df.tail())"
   ]
  },
  {
   "cell_type": "code",
   "execution_count": 8,
   "id": "a756230c",
   "metadata": {},
   "outputs": [
    {
     "name": "stdout",
     "output_type": "stream",
     "text": [
      "  Country Name  geo    1800    1801\n",
      "0  Afghanistan  afg   674.0   674.0\n",
      "1      Albania  alb   746.0   746.0\n",
      "2      Algeria  dza   788.0   788.0\n",
      "3      Andorra  and  1338.0  1341.0\n",
      "4       Angola  ago   691.0   693.0\n"
     ]
    }
   ],
   "source": [
    "#Create a new subset from dataset\n",
    "subset = df[['Country Name','geo', '1800','1801']]\n",
    "print(subset.head())"
   ]
  },
  {
   "cell_type": "code",
   "execution_count": 9,
   "id": "cf158747",
   "metadata": {},
   "outputs": [
    {
     "data": {
      "text/plain": [
       "geo              object\n",
       "Country Name     object\n",
       "1800            float64\n",
       "1801            float64\n",
       "1802            float64\n",
       "                 ...   \n",
       "2046            float64\n",
       "2047            float64\n",
       "2048            float64\n",
       "2049            float64\n",
       "2050            float64\n",
       "Length: 253, dtype: object"
      ]
     },
     "execution_count": 9,
     "metadata": {},
     "output_type": "execute_result"
    }
   ],
   "source": [
    "#Types of data in the datasets\n",
    "df.dtypes"
   ]
  }
 ],
 "metadata": {
  "kernelspec": {
   "display_name": "Python 3 (ipykernel)",
   "language": "python",
   "name": "python3"
  },
  "language_info": {
   "codemirror_mode": {
    "name": "ipython",
    "version": 3
   },
   "file_extension": ".py",
   "mimetype": "text/x-python",
   "name": "python",
   "nbconvert_exporter": "python",
   "pygments_lexer": "ipython3",
   "version": "3.9.7"
  }
 },
 "nbformat": 4,
 "nbformat_minor": 5
}
